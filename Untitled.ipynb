{
 "cells": [
  {
   "cell_type": "code",
   "execution_count": null,
   "metadata": {},
   "outputs": [],
   "source": [
    "import torch\n",
    "from IPython.display import Image as IPythonImage\n",
    "from PIL import Image, ImageDraw, ImageFont\n",
    "import io\n",
    "import random\n",
    "# from train import evaluate\n",
    "import numpy as np\n",
    "from train import CopyTaskModelTraining\n",
    "model = CopyTaskModelTraining()"
   ]
  },
  {
   "cell_type": "code",
   "execution_count": null,
   "metadata": {},
   "outputs": [],
   "source": [
    "def generate_seq(num_batches, batch_size, seq_width, min_len, max_len):\n",
    "    for batch_num in range(num_batches):\n",
    "        seq_len = random.randint(min_len, max_len)\n",
    "        seq = np.random.binomial(1, 0.5, (seq_len, batch_size, seq_width))\n",
    "        seq = torch.from_numpy(seq)\n",
    "\n",
    "        inp = torch.zeros(seq_len + 1, batch_size, seq_width + 1)\n",
    "        inp[:seq_len, :, :seq_width] = seq\n",
    "        inp[seq_len, :, seq_width] = 1.0  # delimiter in our control channel\n",
    "        outp = seq.clone()\n",
    "\n",
    "        yield batch_num + 1, inp.float(), outp.float()"
   ]
  },
  {
   "cell_type": "code",
   "execution_count": null,
   "metadata": {},
   "outputs": [],
   "source": [
    "model.net.load_state_dict(torch.load(\"./copy/copy-task-10-batch-33000.model\"))\n"
   ]
  },
  {
   "cell_type": "code",
   "execution_count": null,
   "metadata": {},
   "outputs": [],
   "source": [
    "def evaluate(net, criterion, X, Y):\n",
    "    \"\"\"Evaluate a single batch (without training).\"\"\"\n",
    "    inp_seq_len = X.size(0)\n",
    "    outp_seq_len, batch_size, _ = Y.size()\n",
    "\n",
    "    # New sequence\n",
    "    net.init_sequence(batch_size)\n",
    "\n",
    "    # Feed the sequence + delimiter\n",
    "    states = []\n",
    "    for i in range(inp_seq_len):\n",
    "        o, state = net(X[i])\n",
    "        states += [state]\n",
    "\n",
    "    # Read the output (no input given)\n",
    "    y_out = torch.zeros(Y.size())\n",
    "    for i in range(outp_seq_len):\n",
    "        y_out[i], state = net()\n",
    "        states += [state]\n",
    "\n",
    "    loss = criterion(y_out, Y)\n",
    "    print(loss)\n",
    "    y_out_binarized = y_out.clone().data\n",
    "    y_out_binarized.apply_(lambda x: 0 if x < 0.5 else 1)\n",
    "\n",
    "    # The cost is the number of error bits per sequence\n",
    "    cost = torch.sum(torch.abs(y_out_binarized - Y.data))\n",
    "\n",
    "    result = {\n",
    "        'loss': loss.item(),\n",
    "        'cost': cost / batch_size,\n",
    "        'y_out': y_out,\n",
    "        'y_out_binarized': y_out_binarized,\n",
    "        'states': states\n",
    "    }\n",
    "\n",
    "    return result"
   ]
  },
  {
   "cell_type": "code",
   "execution_count": null,
   "metadata": {},
   "outputs": [],
   "source": [
    "\n",
    "seq_len = 60\n",
    "_, x, y = next(iter(generate_seq(1, 1, 8, seq_len, seq_len)))\n",
    "result = evaluate(model.net, model.criterion, x, y)\n",
    "y_out = result['y_out']\n",
    "def cmap(value):\n",
    "    pixval = value * 255\n",
    "    low = 64\n",
    "    high = 240\n",
    "    factor = (255 - low - (255-high)) / 255\n",
    "    return int(low + pixval * factor)\n",
    "\n",
    "def draw_sequence(y, u=12):\n",
    "    seq_len = y.size(0)\n",
    "    seq_width = y.size(2)\n",
    "    inset = u // 8\n",
    "    pad = u // 2\n",
    "    width = seq_len * u + 2 * pad\n",
    "    height = seq_width * u + 2 * pad\n",
    "    im = Image.new('L', (width, height))\n",
    "    draw = ImageDraw.ImageDraw(im)\n",
    "    draw.rectangle([0, 0, width, height], fill=250)\n",
    "    for i in range(seq_len):\n",
    "        for j in range(seq_width):\n",
    "            val = 1 - y[i, 0, j].item()\n",
    "            draw.rectangle([pad + i*u + inset,\n",
    "                            pad + j*u + inset,\n",
    "                            pad + (i+1)*u - inset,\n",
    "                            pad + (j+1)*u - inset], fill=cmap(val))\n",
    "\n",
    "    return im\n",
    "\n",
    "def im_to_png_bytes(im):\n",
    "    png = io.BytesIO()\n",
    "    im.save(png, 'PNG')\n",
    "    return bytes(png.getbuffer())\n",
    "\n",
    "def im_vconcat(im1, im2, pad=8):\n",
    "    assert im1.size == im2.size\n",
    "    w, h = im1.size\n",
    "\n",
    "    width = w\n",
    "    height = h * 2 + pad\n",
    "\n",
    "    im = Image.new('L', (width, height), color=255)\n",
    "    im.paste(im1, (0, 0))\n",
    "    im.paste(im2, (0, h+pad))\n",
    "    return im"
   ]
  },
  {
   "cell_type": "code",
   "execution_count": null,
   "metadata": {},
   "outputs": [],
   "source": [
    "\n",
    "def make_eval_plot(y, y_out, u=12):\n",
    "    im_y = draw_sequence(y, u)\n",
    "    im_y_out = draw_sequence(y_out, u)\n",
    "    im = im_vconcat(im_y, im_y_out, u//2)\n",
    "    \n",
    "    w, h = im.size\n",
    "    pad_w = u * 7\n",
    "    im2 = Image.new('L', (w+pad_w, h), color=255)\n",
    "    im2.paste(im, (pad_w, 0))\n",
    "    \n",
    "    # Add text\n",
    "#     font = ImageFont.truetype(\"./fonts/PT_Sans-Web-Regular.ttf\", 13)\n",
    "    draw = ImageDraw.ImageDraw(im2)\n",
    "    draw.text((u,4*u), \"Targets\")\n",
    "    draw.text((u,13*u), \"Outputs\")\n",
    "    \n",
    "    return im2\n",
    "\n",
    "im = make_eval_plot(y, y_out, u=8)\n",
    "IPythonImage(im_to_png_bytes(im))"
   ]
  },
  {
   "cell_type": "code",
   "execution_count": null,
   "metadata": {},
   "outputs": [],
   "source": [
    "from glob import glob\n",
    "import json\n",
    "import matplotlib.pyplot as plt\n",
    "batch_num = 33000\n",
    "files = glob(\"./copy/*-{}.json\".format(batch_num))\n",
    "files\n"
   ]
  },
  {
   "cell_type": "code",
   "execution_count": null,
   "metadata": {},
   "outputs": [],
   "source": [
    "history = [json.loads(open(fname, \"rt\").read()) for fname in files]\n",
    "training = np.array([(x['cost'], x['loss'], x['seq_lengths']) for x in history])\n",
    "print(\"Training history (seed x metric x sequence) =\", training.shape)"
   ]
  },
  {
   "cell_type": "code",
   "execution_count": null,
   "metadata": {},
   "outputs": [],
   "source": [
    "dv = 1000\n",
    "training = training.reshape(len(files), 3, -1, dv).mean(axis=3)\n",
    "print(training.shape)"
   ]
  },
  {
   "cell_type": "code",
   "execution_count": null,
   "metadata": {},
   "outputs": [],
   "source": [
    "training_mean = training.mean(axis=0)\n",
    "training_std = training.std(axis=0)\n",
    "print(training_mean.shape)\n",
    "print(training_std.shape)"
   ]
  },
  {
   "cell_type": "code",
   "execution_count": null,
   "metadata": {},
   "outputs": [],
   "source": [
    "\n",
    "fig = plt.figure(figsize=(12, 5))\n",
    "\n",
    "# X axis is normalized to thousands\n",
    "x = np.arange(dv / 1000, (batch_num / 1000) + (dv / 1000), dv / 1000)\n",
    "\n",
    "# Plot the cost\n",
    "# plt.plot(x, training_mean[0], 'o-', linewidth=2, label='Cost')\n",
    "plt.errorbar(x, training_mean[0], yerr=training_std[0], fmt='o-', elinewidth=2, linewidth=2, label='Cost')\n",
    "plt.grid()\n",
    "plt.yticks(np.arange(0, training_mean[0][0]+5, 5))\n",
    "plt.ylabel('Cost per sequence (bits)')\n",
    "plt.xlabel('Sequence (thousands)')\n",
    "plt.title('Training Convergence', fontsize=16)\n",
    "\n",
    "ax = plt.axes([.57, .55, .25, .25], facecolor=(0.97, 0.97, 0.97))\n",
    "plt.title(\"BCELoss\")\n",
    "plt.plot(x, training_mean[1], 'r-', label='BCE Loss')\n",
    "plt.yticks(np.arange(0, training_mean[1][0]+0.2, 0.2))\n",
    "plt.grid()\n",
    "\n",
    "plt.show()"
   ]
  },
  {
   "cell_type": "code",
   "execution_count": null,
   "metadata": {},
   "outputs": [],
   "source": [
    "\n",
    "seq_len = 80\n",
    "_, x, y = next(iter(generate_seq(1, 1, 8, seq_len, seq_len)))\n",
    "\n",
    "frames = []\n",
    "# font = ImageFont.truetype(\"./fonts/PT_Sans-Web-Regular.ttf\", 13)\n",
    "for batch_num in range(1000, 30000, 1000):\n",
    "    model = CopyTaskModelTraining()\n",
    "    model.net.load_state_dict(torch.load(\"./copy/copy-task-10-batch-{}.model\".format(batch_num)))\n",
    "    result = evaluate(model.net, model.criterion, x, y)\n",
    "    y_out = result['y_out']\n",
    "    frame = make_eval_plot(y, y_out, u=10)\n",
    "    \n",
    "    w, h = frame.size\n",
    "    frame_seq = Image.new('L', (w, h+40), color=255)\n",
    "    frame_seq.paste(frame, (0, 40))\n",
    "    \n",
    "    draw = ImageDraw.ImageDraw(frame_seq)\n",
    "    draw.text((10, 10), \"Sequence Num: {} (Cost: {})\".format(batch_num, result['cost']))\n",
    "    \n",
    "    frames += [frame_seq]"
   ]
  },
  {
   "cell_type": "code",
   "execution_count": null,
   "metadata": {},
   "outputs": [],
   "source": [
    "\n",
    "im = frames[0]\n",
    "im.save(\"./copy-train-80.gif\", save_all=True, append_images=frames[1:], loop=0, duration=1000)\n",
    "\n",
    "im = frames[0]\n",
    "im.save(\"./copy-train-80-fast.gif\", save_all=True, append_images=frames[1:], loop=0, duration=100)"
   ]
  },
  {
   "cell_type": "code",
   "execution_count": null,
   "metadata": {},
   "outputs": [],
   "source": []
  }
 ],
 "metadata": {
  "kernelspec": {
   "display_name": "Python 3",
   "language": "python",
   "name": "python3"
  },
  "language_info": {
   "codemirror_mode": {
    "name": "ipython",
    "version": 3
   },
   "file_extension": ".py",
   "mimetype": "text/x-python",
   "name": "python",
   "nbconvert_exporter": "python",
   "pygments_lexer": "ipython3",
   "version": "3.7.2"
  }
 },
 "nbformat": 4,
 "nbformat_minor": 2
}
